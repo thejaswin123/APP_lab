{
 "cells": [
  {
   "cell_type": "markdown",
   "metadata": {},
   "source": [
    "# SYMBOLIC PROGRAMMING\n",
    "\n",
    "**DONE BY:\n",
    "<br>Thejaswin.S\n",
    "<br>RA1911026010029\n",
    "<br>CSE-AIML K1**"
   ]
  },
  {
   "cell_type": "markdown",
   "metadata": {},
   "source": [
    "**1. Solve the following using symbolic paradigm:\n",
    "<br>i. Calculate sqrt (2) with 100 decimals.**\n"
   ]
  },
  {
   "cell_type": "code",
   "execution_count": 19,
   "metadata": {},
   "outputs": [
    {
     "name": "stdout",
     "output_type": "stream",
     "text": [
      "1.414213562373095048801688724209698078569671875376948073176679737990732478462107038850387534327641573\n"
     ]
    }
   ],
   "source": [
    "from sympy import sqrt\n",
    "print(sqrt(2).evalf(100))"
   ]
  },
  {
   "cell_type": "markdown",
   "metadata": {},
   "source": [
    "**ii. Calculate (1/2+1/3) in rational arithmetic.**"
   ]
  },
  {
   "cell_type": "code",
   "execution_count": 28,
   "metadata": {},
   "outputs": [
    {
     "data": {
      "text/latex": [
       "$\\displaystyle \\frac{5}{6}$"
      ],
      "text/plain": [
       "5/6"
      ]
     },
     "execution_count": 28,
     "metadata": {},
     "output_type": "execute_result"
    }
   ],
   "source": [
    "import sympy as sym\n",
    "a0029 = sym.Rational(1, 2)\n",
    "b0029 = sym.Rational(1, 3)\n",
    "a0029+b0029"
   ]
  },
  {
   "cell_type": "markdown",
   "metadata": {},
   "source": [
    "**iii. Calculate the expanded form of (x+y) ^ 6.**"
   ]
  },
  {
   "cell_type": "code",
   "execution_count": 29,
   "metadata": {},
   "outputs": [
    {
     "data": {
      "text/latex": [
       "$\\displaystyle x^{6} + 6 x^{5} y + 15 x^{4} y^{2} + 20 x^{3} y^{3} + 15 x^{2} y^{4} + 6 x y^{5} + y^{6}$"
      ],
      "text/plain": [
       "x**6 + 6*x**5*y + 15*x**4*y**2 + 20*x**3*y**3 + 15*x**2*y**4 + 6*x*y**5 + y**6"
      ]
     },
     "execution_count": 29,
     "metadata": {},
     "output_type": "execute_result"
    }
   ],
   "source": [
    "import sympy as sym\n",
    "x0029 = sym.Symbol('x')\n",
    "y0029 = sym.Symbol('y')\n",
    "sym.expand((x0029+y0029)**6)"
   ]
  },
  {
   "cell_type": "markdown",
   "metadata": {},
   "source": [
    "**iv. Simplify the trigonometric expression sin (x) / cos (x)**"
   ]
  },
  {
   "cell_type": "code",
   "execution_count": 30,
   "metadata": {},
   "outputs": [
    {
     "data": {
      "text/latex": [
       "$\\displaystyle \\tan{\\left(x \\right)}$"
      ],
      "text/plain": [
       "tan(x)"
      ]
     },
     "execution_count": 30,
     "metadata": {},
     "output_type": "execute_result"
    }
   ],
   "source": [
    "import sympy as sym\n",
    "x0029=sym.Symbol('x')\n",
    "sym.simplify(sym.sin(x0029)/sym.cos(x0029))"
   ]
  },
  {
   "cell_type": "markdown",
   "metadata": {},
   "source": [
    "**v. Calculate sin x -xx^3n**"
   ]
  },
  {
   "cell_type": "code",
   "execution_count": 31,
   "metadata": {},
   "outputs": [
    {
     "data": {
      "text/latex": [
       "$\\displaystyle \\left\\{x \\mid x \\in \\mathbb{C} \\wedge - n x^{4} + \\sin{\\left(x \\right)} = 0 \\right\\}$"
      ],
      "text/plain": [
       "ConditionSet(x, Eq(-n*x**4 + sin(x), 0), Complexes)"
      ]
     },
     "execution_count": 31,
     "metadata": {},
     "output_type": "execute_result"
    }
   ],
   "source": [
    "import sympy as sym\n",
    "x0029=sym.Symbol('x')\n",
    "n0029=sym.Symbol('n')\n",
    "sym.solveset(sym.sin(x0029)-x0029*x0029**3*n0029,x0029)"
   ]
  },
  {
   "cell_type": "code",
   "execution_count": 32,
   "metadata": {},
   "outputs": [
    {
     "data": {
      "text/latex": [
       "$\\displaystyle - n x^{4} + \\sin{\\left(x \\right)}$"
      ],
      "text/plain": [
       "-n*x**4 + sin(x)"
      ]
     },
     "execution_count": 32,
     "metadata": {},
     "output_type": "execute_result"
    }
   ],
   "source": [
    "import sympy\n",
    "from sympy import *\n",
    "x0029,n0029=symbols('x n')\n",
    "expr0029=sin(x0029)-x0029*x0029**3*n0029\n",
    "smpl0029=trigsimp(expr0029)\n",
    "smpl0029"
   ]
  },
  {
   "cell_type": "markdown",
   "metadata": {},
   "source": [
    "**2. Develop a python code for to carryout the operations on the given algebraic manipulation for the given expression a2−ab+ab−b2=a2−b2  by using the symbolic programming paradigms principles.**"
   ]
  },
  {
   "cell_type": "code",
   "execution_count": 33,
   "metadata": {},
   "outputs": [
    {
     "data": {
      "text/latex": [
       "$\\displaystyle a^{2} - b^{2}$"
      ],
      "text/plain": [
       "a**2 - b**2"
      ]
     },
     "execution_count": 33,
     "metadata": {},
     "output_type": "execute_result"
    }
   ],
   "source": [
    "from sympy import *\n",
    "a,b=symbols('a b')\n",
    "g10029=simplify(a**2-ab+ab-b**2)\n",
    "g10029"
   ]
  },
  {
   "cell_type": "markdown",
   "metadata": {},
   "source": [
    "**3. Give the Symbolic program for the expression given below:\n",
    "<br>a. ∬a2 da**"
   ]
  },
  {
   "cell_type": "code",
   "execution_count": 34,
   "metadata": {},
   "outputs": [
    {
     "name": "stdout",
     "output_type": "stream",
     "text": [
      "first integration a**3/3\n",
      "second integration a**4/12\n"
     ]
    }
   ],
   "source": [
    "a0029=symbols('a')\n",
    "g0029=integrate('a**2',a)\n",
    "j0029=integrate(g0029,a0029) \n",
    "print(\"first integration \"+str(g0029))\n",
    "print(\"second integration \"+str(j0029))"
   ]
  },
  {
   "cell_type": "markdown",
   "metadata": {},
   "source": [
    "**b. 2x+y2**"
   ]
  },
  {
   "cell_type": "code",
   "execution_count": 35,
   "metadata": {},
   "outputs": [
    {
     "data": {
      "text/latex": [
       "$\\displaystyle 2 x + y^{2}$"
      ],
      "text/plain": [
       "2*x + y**2"
      ]
     },
     "execution_count": 35,
     "metadata": {},
     "output_type": "execute_result"
    }
   ],
   "source": [
    "x=Symbol('x')\n",
    "y=Symbol('y')\n",
    "2*x+y**2"
   ]
  },
  {
   "cell_type": "markdown",
   "metadata": {},
   "source": [
    "**c. 1/10 + 1/5**"
   ]
  },
  {
   "cell_type": "code",
   "execution_count": 36,
   "metadata": {},
   "outputs": [
    {
     "data": {
      "text/latex": [
       "$\\displaystyle \\frac{3}{10}$"
      ],
      "text/plain": [
       "3/10"
      ]
     },
     "execution_count": 36,
     "metadata": {},
     "output_type": "execute_result"
    }
   ],
   "source": [
    "a0029=Rational(1,10)\n",
    "b0029=Rational(1,5)\n",
    "a0029+b0029"
   ]
  },
  {
   "cell_type": "markdown",
   "metadata": {},
   "source": [
    "**d. d/dx(sin(x))**"
   ]
  },
  {
   "cell_type": "code",
   "execution_count": 37,
   "metadata": {},
   "outputs": [
    {
     "name": "stdout",
     "output_type": "stream",
     "text": [
      "Before differentiation sin(x)\n",
      "After differentiation cos(x)\n"
     ]
    }
   ],
   "source": [
    "x0029=symbols('x')\n",
    "g0029=sin(x0029)\n",
    "j0029=diff(g0029,x0029) \n",
    "print(\"Before differentiation \"+str(g0029))\n",
    "print(\"After differentiation \"+str(j0029)) "
   ]
  },
  {
   "cell_type": "markdown",
   "metadata": {},
   "source": [
    "# Functional Programming"
   ]
  },
  {
   "cell_type": "markdown",
   "metadata": {},
   "source": [
    "**1.\tCalculate the following using Lambda calculus:\n",
    "<br>a.\tT AND F**"
   ]
  },
  {
   "cell_type": "code",
   "execution_count": 38,
   "metadata": {},
   "outputs": [
    {
     "name": "stdout",
     "output_type": "stream",
     "text": [
      "T AND F =  False\n"
     ]
    }
   ],
   "source": [
    "y0029=lambda s0029: s0029 and False\n",
    "print(\"T AND F = \",y0029(True)) "
   ]
  },
  {
   "cell_type": "markdown",
   "metadata": {},
   "source": [
    "**b. 3 * 4**"
   ]
  },
  {
   "cell_type": "code",
   "execution_count": 1,
   "metadata": {},
   "outputs": [
    {
     "name": "stdout",
     "output_type": "stream",
     "text": [
      "3*4 = 12\n"
     ]
    }
   ],
   "source": [
    "x0029 = lambda a0029,b0029 : a0029*b0029\n",
    "print(\"3*4 =\",x0029(3,4))"
   ]
  },
  {
   "cell_type": "markdown",
   "metadata": {},
   "source": [
    "**2.\tLambda functions\n",
    "<br>a.\tWrite a lambda function to convert measurements from meters to feet.**"
   ]
  },
  {
   "cell_type": "code",
   "execution_count": 1,
   "metadata": {},
   "outputs": [
    {
     "name": "stdout",
     "output_type": "stream",
     "text": [
      "enter in metres: 12.5\n",
      "feet : 41.010500\n"
     ]
    }
   ],
   "source": [
    "x0029=lambda y0029: y0029*3.28084\n",
    "print(\"feet : {:.6f}\".format(x0029(float(input(\"enter in metres: \")))))"
   ]
  },
  {
   "cell_type": "markdown",
   "metadata": {},
   "source": [
    "**b. Write a lambda function in Python to implement the following lambda expression:\n",
    "<br>         (𝜆𝑓. 𝜆𝑚. (𝑓 + 𝑚)𝑎)(𝜆𝑥. 𝑥2)(𝑏)\n",
    "<br>Note: You need to write a nested lambda function for implementing f+m where f takes the\n",
    "<br>square function (which takes argument x) passed as a parameter. The above expression\n",
    "<br>calculates a^2+b.**"
   ]
  },
  {
   "cell_type": "code",
   "execution_count": 5,
   "metadata": {},
   "outputs": [
    {
     "name": "stdout",
     "output_type": "stream",
     "text": [
      "Enter value for a: 10\n",
      "Enter value for b: 12\n",
      "112\n"
     ]
    }
   ],
   "source": [
    "square0029=lambda x: x**2\n",
    "total0029=lambda f, b: lambda a: f(a)+b\n",
    "a0029=int(input(\"Enter value for a: \"))\n",
    "b0029=int(input(\"Enter value for b: \"))\n",
    "print(total0029(square0029,b0029)(a0029))"
   ]
  },
  {
   "cell_type": "markdown",
   "metadata": {},
   "source": [
    "**3. Passing and returning a function as an argument\n",
    "<br>Define a function ‘square’ for squaring a number. Define a function named ‘twice’ that takes a\n",
    "<br>function f as an argument and returns f(f(x)). Using ‘twice’ and ‘square’ create a function ‘quad’ that\n",
    "<br>takes n as an argument and returns n 4 . ‘quad’ should not be defined explicitly. It should only be\n",
    "<br>created as a variable which is then assigned a function.**"
   ]
  },
  {
   "cell_type": "code",
   "execution_count": 73,
   "metadata": {},
   "outputs": [
    {
     "name": "stdout",
     "output_type": "stream",
     "text": [
      "Enter a number: 10\n",
      "10000\n"
     ]
    }
   ],
   "source": [
    "def square0029(n0029):\n",
    "    return n0029**2\n",
    "\n",
    "def twice0029(f0029):\n",
    "    return square0029(f0029)\n",
    "\n",
    "n0029 = int(input(\"Enter a number: \"))\n",
    "quad0029 = twice0029(square0029(n0029))\n",
    "print(quad0029)"
   ]
  },
  {
   "cell_type": "markdown",
   "metadata": {},
   "source": [
    "**4. Closure\n",
    "<br>A Closure is a function object that remembers values in enclosing scopes even if they are not present\n",
    "<br>in memory. We have a closure in Python when a nested function references a value in its enclosing\n",
    "<br>scope.\n",
    "<br>a. Study the following program by executing it:**"
   ]
  },
  {
   "cell_type": "code",
   "execution_count": 8,
   "metadata": {},
   "outputs": [
    {
     "name": "stdout",
     "output_type": "stream",
     "text": [
      "45\n"
     ]
    }
   ],
   "source": [
    "def multiplier_of(n0029):\n",
    "    def multiplier(number0029):\n",
    "        return number0029*n0029\n",
    "    return multiplier\n",
    "\n",
    "multiplywith5 = multiplier_of(5)\n",
    "print(multiplywith5(9))"
   ]
  },
  {
   "cell_type": "markdown",
   "metadata": {},
   "source": [
    "**b. In a lottery system, random number is chosen by retrieving the number from a\n",
    "<br>random index from a list of random numbers. Write a program to choose a random\n",
    "<br>number in this way. You must use nested functions – the inner function chooses a\n",
    "<br>number from a random index and the outer function generates a random list of\n",
    "<br>numbers. The outer function takes n as a parameter where is the maximum number\n",
    "<br>that can be put in the random list. (Your code should be similar to the program in\n",
    "<br>5a)**"
   ]
  },
  {
   "cell_type": "code",
   "execution_count": 45,
   "metadata": {},
   "outputs": [
    {
     "name": "stdout",
     "output_type": "stream",
     "text": [
      "Enter a random number: 10\n",
      "Random number generated is: 6\n"
     ]
    }
   ],
   "source": [
    "import random\n",
    "def outer_func(n0029):\n",
    "    list_0029 = random.sample(range(0,n0029+1), n0029)\n",
    "    def inner_func():\n",
    "        index = random.randrange(0, n0029)\n",
    "        return list_0029[index]\n",
    "    return inner_func\n",
    "\n",
    "n0029 = int(input(\"Enter a random number: \"))\n",
    "ans0029 = outer_func(n0029)\n",
    "print(\"Random number generated is: {}\".format(ans0029()))"
   ]
  },
  {
   "cell_type": "markdown",
   "metadata": {},
   "source": [
    "**6. Map\n",
    "<br>A secret message needs to be sent. Use the map function to encrypt the message using Caesar cipher.**"
   ]
  },
  {
   "cell_type": "code",
   "execution_count": 2,
   "metadata": {},
   "outputs": [
    {
     "name": "stdout",
     "output_type": "stream",
     "text": [
      "Enter the word: hello\n",
      "Enter the shift: 2\n",
      "Encrypted text: jgnnq"
     ]
    }
   ],
   "source": [
    "def encrypt(letter_0029, s_0029):\n",
    "    if (letter_0029.isupper()):\n",
    "        return chr((ord(letter_0029) + s_0029 - 65) % 26 + 65)\n",
    "    elif (letter_0029.islower()):\n",
    "        return chr((ord(letter_0029) + s_0029 - 97) % 26 + 97)\n",
    "    else:\n",
    "        return letter_0029\n",
    "\n",
    "text_0029 = input(\"Enter the word: \")\n",
    "s_0029 = int(input(\"Enter the shift: \"))\n",
    "shift_0029 = [s_0029] * len(text_0029)\n",
    "result_0029 = list(map(encrypt, text_0029, shift_0029))\n",
    "#result_0029\n",
    "print(\"Encrypted text: \", end=\"\")\n",
    "for i in result_0029:\n",
    "    print(i, end=\"\")"
   ]
  },
  {
   "cell_type": "markdown",
   "metadata": {},
   "source": [
    "**7. Reduce\n",
    "<br>Given runs scored by 2 players in a series of matches, write a Python program using reduce function\n",
    "<br>to find who is the better player of the two in terms of maintaining consistency. (You need to find\n",
    "<br>SD).**"
   ]
  },
  {
   "cell_type": "code",
   "execution_count": 56,
   "metadata": {},
   "outputs": [
    {
     "name": "stdout",
     "output_type": "stream",
     "text": [
      "Player 1 is more consistent.\n"
     ]
    }
   ],
   "source": [
    "import functools,operator\n",
    "\n",
    "pl1_0029 = [51, 50, 58, 55, 53, 60]\n",
    "pl2_0029 = [98, 42, 88, 74, 88, 12]\n",
    "\n",
    "mean1_0029 = (functools.reduce(operator.add, pl1_0029)) / len(pl1_0029)\n",
    "mean2_0029 = (functools.reduce(operator.add, pl2_0029)) / len(pl2_0029)\n",
    "\n",
    "m1_0029 = [mean1_0029] * len(pl1_0029)\n",
    "m2_0029 = [mean2_0029] * len(pl2_0029)\n",
    "\n",
    "def variance_0029(p_0029, m_0029):\n",
    "    var_0029 = p_0029 - m_0029\n",
    "    return var_0029**2\n",
    "    \n",
    "sqsum1_0029 = list(map(variance_0029, pl1_0029, m1_0029))\n",
    "sqsum2_0029 = list(map(variance_0029, pl2_0029, m2_0029))\n",
    "\n",
    "var1_0029 = (functools.reduce(operator.add, sqsum1_0029)) / len(sqsum1_0029)\n",
    "var2_0029 = (functools.reduce(operator.add, sqsum2_0029)) / len(sqsum2_0029)\n",
    "\n",
    "sd1_0029 = var1_0029**0.5\n",
    "sd2_0029 = var2_0029**0.5\n",
    "\n",
    "if sd1_0029==sd2_0029:\n",
    "    print(\"Both players are consistent.\")\n",
    "elif sd1_0029>sd2_0029:\n",
    "    print(\"Player 2 is more consistent.\")\n",
    "else:\n",
    "    print(\"Player 1 is more consistent.\")"
   ]
  },
  {
   "cell_type": "markdown",
   "metadata": {},
   "source": [
    "**8. Filter\n",
    "<br>The marks scored by a class of students in 5 different subjects are stored in a list of lists. Using the\n",
    "<br>filter function, write a program to find the students who failed in one or more subjects.**"
   ]
  },
  {
   "cell_type": "code",
   "execution_count": 6,
   "metadata": {},
   "outputs": [
    {
     "name": "stdout",
     "output_type": "stream",
     "text": [
      "student '1' failed in atleast 1 subject\n",
      "student '2' failed in atleast 1 subject\n",
      "student '4' failed in atleast 1 subject\n"
     ]
    }
   ],
   "source": [
    "a0029=lambda x0029:x0029<35\n",
    "marks0029=[[10,90,80,75,32],[23,67,78,87,90],[90,90,90,90,90],[39, 1, 100, 56, 72]]\n",
    "l=len(marks0029)\n",
    "for i in range(l):\n",
    "    red=filter(a0029,marks0029[i])\n",
    "    if len(list(red))>=1:\n",
    "        print (\"student '\"+str(i+1)+\"' failed in atleast 1 subject\")"
   ]
  },
  {
   "cell_type": "markdown",
   "metadata": {},
   "source": [
    "**9. Map+reduce+filter\n",
    "<br>Given two trending topics and a bunch of tweets, write a Python program to count the number of\n",
    "<br>tweets that contain each topic. You need to do this by putting together map(), reduce() and filter()\n",
    "<br>functions.**"
   ]
  },
  {
   "cell_type": "code",
   "execution_count": 7,
   "metadata": {},
   "outputs": [
    {
     "name": "stdout",
     "output_type": "stream",
     "text": [
      "['', 'Most 10-wicket wins in IPL: 4 - RCB, 2 - MI, 2 - SRH, 2 - CSK #RCBvsRR #CSK #RR #CricTracker', 'My @chennaisuperkings outfit has arrived! Now to be well enough towear it....Thanks @MSD & the #CSK management! All the best for the rest of the #IPL!', '', '', '']\n",
      "['', '', '', 'Mental health of #Students deteriorating', '#Students suffering inside home and inside themselves', '#Students not able to cope up with studies during COVID']\n",
      "\n",
      "No. of csk tweets: 2\n",
      "No. of students tweets: 3\n"
     ]
    }
   ],
   "source": [
    "import functools,operator\n",
    "tweets0029 = [\"Is this the final ipl of msd #IPL #chennaisuperkings\",\n",
    "            \"Most 10-wicket wins in IPL: 4 - RCB, 2 - MI, 2 - SRH, 2 - CSK #RCBvsRR #CSK #RR #CricTracker\",\n",
    "            \"My @chennaisuperkings outfit has arrived! Now to be well enough towear it....Thanks @MSD & the #CSK management! All the best for the rest of the #IPL!\",\n",
    "             \"Mental health of #Students deteriorating\",\n",
    "             \"#Students suffering inside home and inside themselves\",\n",
    "              \"#Students not able to cope up with studies during COVID\"]\n",
    "\n",
    "csk_0029 = [\"#csk\"] * len(tweets0029)\n",
    "students_0029 = [\"students\"] * len(tweets0029)\n",
    "\n",
    "def segregate_tweets(str0029, topic0029):\n",
    "    if topic0029 in str0029.lower():\n",
    "        return str0029\n",
    "    return \"\"\n",
    "\n",
    "result_csk = list(map(segregate_tweets, tweets0029, csk_0029))\n",
    "result_stud = list(map(segregate_tweets, tweets0029, students_0029))\n",
    "print(result_csk)\n",
    "print(result_stud)\n",
    "print()\n",
    "def filter_list(str0029):\n",
    "    return str0029!=\"\"\n",
    "\n",
    "rescsk_0029 = list(filter(filter_list, result_csk))\n",
    "resstud_0029 = list(filter(filter_list, result_stud))\n",
    "\n",
    "print(\"No. of csk tweets: {}\".format(len(rescsk_0029)))\n",
    "print(\"No. of students tweets: {}\".format(len(resstud_0029)))"
   ]
  },
  {
   "cell_type": "code",
   "execution_count": null,
   "metadata": {},
   "outputs": [],
   "source": []
  }
 ],
 "metadata": {
  "kernelspec": {
   "display_name": "Python 3",
   "language": "python",
   "name": "python3"
  },
  "language_info": {
   "codemirror_mode": {
    "name": "ipython",
    "version": 3
   },
   "file_extension": ".py",
   "mimetype": "text/x-python",
   "name": "python",
   "nbconvert_exporter": "python",
   "pygments_lexer": "ipython3",
   "version": "3.8.5"
  }
 },
 "nbformat": 4,
 "nbformat_minor": 4
}
