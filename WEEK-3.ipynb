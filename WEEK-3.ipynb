{
 "cells": [
  {
   "cell_type": "markdown",
   "metadata": {},
   "source": [
    "# SET 13 WEEK-3"
   ]
  },
  {
   "cell_type": "markdown",
   "metadata": {},
   "source": [
    "# Structured Programming Using Python"
   ]
  },
  {
   "cell_type": "markdown",
   "metadata": {},
   "source": [
    "**DONE BY:\n",
    "<br>THEJASWIN S\n",
    "<br>RA1911026010029\n",
    "<br>CSE-AIML**"
   ]
  },
  {
   "cell_type": "markdown",
   "metadata": {},
   "source": [
    "# 1.\n",
    "**Write the python code to calculate the gross pay of an employee. Create a class name called employee and get the following inputs from the user.\n",
    "<br>•\tName of the employee, \n",
    "<br>•\tAge,\n",
    "<br>•\t DOB, \n",
    "<br>•\tDOJ,\n",
    "<br>•\t Basic pay\n",
    "<br>•\tHRA\n",
    "<br>•\tDeductions\n",
    "<br>Print the gross salary of each employee.**"
   ]
  },
  {
   "cell_type": "code",
   "execution_count": 1,
   "metadata": {},
   "outputs": [
    {
     "name": "stdout",
     "output_type": "stream",
     "text": [
      "enter the no.of employees :1\n",
      "\u001b[1m please enter the employee id1 details :\u001b[0m\n",
      "please enter the name :theja\n",
      "please enter the age :18\n",
      "please enter the date of birth :12/12/12\n",
      "please enter the date of joining :12/12/12\n",
      "please enter the basic pay :30000\n",
      "please enter the home rent allowance :10000\n",
      "please enter the deduction amount :5000\n",
      "\u001b[1mThe gross salary is 40000 & The net salary is 35000\u001b[0m\n"
     ]
    }
   ],
   "source": [
    "class Employee:\n",
    "    \n",
    "    _name=\"\"\n",
    "    _age=0\n",
    "    _dob=\"\"\n",
    "    _doj=\"\"\n",
    "    _basic_pay=0\n",
    "    _hra=0\n",
    "    _deduc=0\n",
    "    \n",
    "    # constructor to set data \n",
    "    def __init__(self,name,age,dob,doj,basic_pay,hra,deduc):\n",
    "        self._name=name\n",
    "        self._age=age\n",
    "        self._dob=dob\n",
    "        self._doj=doj\n",
    "        self._basic_pay=basic_pay\n",
    "        self._hra=hra\n",
    "        self._deduc=deduc\n",
    "        \n",
    "    # function to calculate gross salary    \n",
    "    def calc0029(self) :\n",
    "        gross_sal=self._basic_pay+self._hra\n",
    "        net_sal=gross_sal-self._deduc\n",
    "        print(f\"\\033[1mThe gross salary is {gross_sal} & The net salary is {net_sal}\\033[0m\")\n",
    "        \n",
    "n0029=int(input('enter the no.of employees :'))\n",
    "for i in range(n0029):\n",
    "    print(f\"\\033[1m please enter the employee id{i+1} details :\\033[0m\")\n",
    "    name29=input(f\"please enter the name :\")\n",
    "    age29=int(input(\"please enter the age :\"))\n",
    "    dob29=input(\"please enter the date of birth :\")\n",
    "    doj29=input(\"please enter the date of joining :\")\n",
    "    basic_pay29=int(input(\"please enter the basic pay :\"))\n",
    "    hra29=int(input(\"please enter the home rent allowance :\"))\n",
    "    deduc29=int(input(\"please enter the deduction amount :\"))\n",
    "    obj0029=Employee(name29,age29,dob29,doj29,basic_pay29,hra29,deduc29)\n",
    "    #obj.setData(name,age,dob,doj,basic_pay,hra,deduc)\n",
    "    obj0029.calc0029()"
   ]
  },
  {
   "cell_type": "code",
   "execution_count": null,
   "metadata": {},
   "outputs": [],
   "source": []
  },
  {
   "cell_type": "markdown",
   "metadata": {},
   "source": [
    "# 2.\n",
    "**Write a Python class named Rectangle constructed by a length and width and a method which will compute the area of a rectangle.**"
   ]
  },
  {
   "cell_type": "code",
   "execution_count": 45,
   "metadata": {},
   "outputs": [
    {
     "name": "stdout",
     "output_type": "stream",
     "text": [
      "Enter the length and breadth of rectangle (in cm) : 12 5\n",
      "\u001b[1mArea of rectangle is \u001b[1m60 cm²\n"
     ]
    }
   ],
   "source": [
    "class Rectangle():\n",
    "    def __init__(self, l, w):\n",
    "        self.length = l\n",
    "        self.width  = w\n",
    "\n",
    "    def rectangle_area(self):\n",
    "        return self.length*self.width\n",
    "    \n",
    "a0029,b0029=map(int,input(\"Enter the length and breadth of rectangle (in cm) : \").split())\n",
    "obj0029 = Rectangle(a0029,b0029)\n",
    "print(\"\\033[1mArea of rectangle is \\033[1m\"+str(obj0029.rectangle_area())+\" cm²\")"
   ]
  },
  {
   "cell_type": "code",
   "execution_count": null,
   "metadata": {},
   "outputs": [],
   "source": []
  },
  {
   "cell_type": "markdown",
   "metadata": {},
   "source": [
    "# 3.\n",
    "**Write a Python class to find a pair of elements (indices of the two numbers) from a given\n",
    "array whose sum equals a specific target number. \n",
    "<br>Input: numbers= [10,20,10,40,50,60,70], target=50\n",
    "<br>Output: 3, 4**"
   ]
  },
  {
   "cell_type": "code",
   "execution_count": 9,
   "metadata": {},
   "outputs": [
    {
     "name": "stdout",
     "output_type": "stream",
     "text": [
      "\u001b[1m 3,4\n"
     ]
    }
   ],
   "source": [
    "class sol0029:\n",
    "    def Sum0029(self, nums, target):\n",
    "        lookup = {}\n",
    "        for i, num in enumerate(nums,1):\n",
    "            if target - num in lookup:\n",
    "                return (lookup[target - num], i )\n",
    "            lookup[num] = i\n",
    "print(\"\\033[1m %d,%d\"% sol0029().Sum0029([10,20,10,40,50,60,70],50))"
   ]
  },
  {
   "cell_type": "code",
   "execution_count": null,
   "metadata": {},
   "outputs": [],
   "source": []
  },
  {
   "cell_type": "markdown",
   "metadata": {},
   "source": [
    "# 4.\n",
    "**Write a Python class to find the three elements that sum to zero from a set of n real numbers.\n",
    "<br>Input array : [-25, -10, -7, -3, 2, 4, 8, 10]\n",
    "<br>Output : [[-10, 2, 8], [-7, -3, 10]]**"
   ]
  },
  {
   "cell_type": "code",
   "execution_count": 47,
   "metadata": {},
   "outputs": [
    {
     "name": "stdout",
     "output_type": "stream",
     "text": [
      "[[-10, 2, 8], [-7, -3, 10]]\n"
     ]
    }
   ],
   "source": [
    "class sol0029:\n",
    "    def zerosum0029(self, nums0029):\n",
    "        nums0029, result0029, i = sorted(nums0029), [], 0\n",
    "        while i < len(nums0029) - 2:\n",
    "            j, k = i + 1, len(nums0029) - 1\n",
    "            while j < k:\n",
    "                if nums0029[i] + nums0029[j] + nums0029[k] < 0:\n",
    "                    j += 1\n",
    "                elif nums0029[i] + nums0029[j] + nums0029[k] > 0:\n",
    "                    k -= 1\n",
    "                else:\n",
    "                    result0029.append([nums0029[i], nums0029[j], nums0029[k]])\n",
    "                    j, k = j + 1, k - 1\n",
    "                    while j < k and nums0029[j] == nums0029[j - 1]:\n",
    "                        j += 1\n",
    "                    while j < k and nums0029[k] == nums0029[k + 1]:\n",
    "                        k -= 1\n",
    "            i += 1\n",
    "            while i < len(nums0029) - 2 and nums0029[i] == nums0029[i - 1]:\n",
    "                i += 1\n",
    "        return result0029\n",
    "\n",
    "print(sol0029().zerosum0029([-25, -10, -7, -3, 2, 4, 8, 10]))"
   ]
  },
  {
   "cell_type": "code",
   "execution_count": null,
   "metadata": {},
   "outputs": [],
   "source": []
  },
  {
   "cell_type": "markdown",
   "metadata": {},
   "source": [
    "# 5.\n",
    "**Write a Python class to reverse a string word by word.\n",
    "<br>Input string : 'hello .py'\n",
    "<br>Expected Output : '.py hello'**"
   ]
  },
  {
   "cell_type": "code",
   "execution_count": 48,
   "metadata": {},
   "outputs": [
    {
     "name": "stdout",
     "output_type": "stream",
     "text": [
      "\u001b[1mInput : \u001b[0m\n",
      "hello .py\n",
      "\u001b[1mOutput : \u001b[0m\n",
      ".py hello\n"
     ]
    }
   ],
   "source": [
    "class sol0029:\n",
    "    def reverse_it0029(self, s):\n",
    "        return ' '.join(reversed(s.split()))\n",
    "\n",
    "print(\"\\033[1mInput : \\033[0m\")    \n",
    "s=input()\n",
    "print(\"\\033[1mOutput : \\033[0m\")\n",
    "print(sol0029().reverse_it0029(s))\n"
   ]
  },
  {
   "cell_type": "markdown",
   "metadata": {},
   "source": [
    "# Thank you"
   ]
  }
 ],
 "metadata": {
  "kernelspec": {
   "display_name": "Python 3",
   "language": "python",
   "name": "python3"
  },
  "language_info": {
   "codemirror_mode": {
    "name": "ipython",
    "version": 3
   },
   "file_extension": ".py",
   "mimetype": "text/x-python",
   "name": "python",
   "nbconvert_exporter": "python",
   "pygments_lexer": "ipython3",
   "version": "3.8.5"
  }
 },
 "nbformat": 4,
 "nbformat_minor": 4
}
