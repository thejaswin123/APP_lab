{
 "cells": [
  {
   "cell_type": "markdown",
   "metadata": {},
   "source": [
    "# SET 13\n",
    "\n",
    "# Structured Programming Using Python"
   ]
  },
  {
   "cell_type": "markdown",
   "metadata": {},
   "source": [
    "                                                                                                         **DONE BY:\n",
    "                                                                                                         THEJASWIN S\n",
    "                                                                                                         RA1911026010029\n",
    "                                                                                                         CSE-AIML**"
   ]
  },
  {
   "cell_type": "markdown",
   "metadata": {},
   "source": [
    "# 1. \n",
    "**Write code that starts with a string of words and results in a new\n",
    "string consisting of the same words, but where the first word swaps\n",
    "places with the second, and so on. For example, \"the cat sat on the\n",
    "mat\" will be converted into \"cat the on sat mat the\".**"
   ]
  },
  {
   "cell_type": "markdown",
   "metadata": {},
   "source": [
    "*METHOD-1*"
   ]
  },
  {
   "cell_type": "code",
   "execution_count": 3,
   "metadata": {},
   "outputs": [
    {
     "name": "stdout",
     "output_type": "stream",
     "text": [
      "Input :\n",
      "Enter the string :\n",
      "the cat sat on the mat\n",
      "\u001b[1mOutput :\n",
      "cat the on sat mat the\n"
     ]
    }
   ],
   "source": [
    "#PROBLEM-1\n",
    "#method-1\n",
    "def func0029(stri):\n",
    "    list1=[]\n",
    "    list1=stri.split(\" \")\n",
    "    for i in range(0,len(list1)-1,2):\n",
    "        list1[i],list1[i+1]=list1[i+1],list1[i]\n",
    "    p=\" \".join(list1)\n",
    "    print(p)\n",
    "\n",
    "print(\"Input :\")\n",
    "s10029=input(\"Enter the string :\\n\")\n",
    "print(\"\\033[1mOutput :\")\n",
    "func0029(s10029)    "
   ]
  },
  {
   "cell_type": "markdown",
   "metadata": {},
   "source": [
    "*METHOD-2*"
   ]
  },
  {
   "cell_type": "code",
   "execution_count": 15,
   "metadata": {},
   "outputs": [
    {
     "name": "stdout",
     "output_type": "stream",
     "text": [
      "Enter number of elements : 6\n",
      "the\n",
      "cat\n",
      "sat\n",
      "on\n",
      "the\n",
      "mat\n",
      "\u001b[1mOutput : \n",
      "cat the on sat mat the\n"
     ]
    }
   ],
   "source": [
    "#PROBLEM-1\n",
    "#method-2\n",
    "list0029 = [] \n",
    "n0029 = int(input(\"Enter number of elements : \")) \n",
    "for i in range(0, n0029): \n",
    "    e0029 = (input())\n",
    "    list0029.append(e0029) \n",
    "      \n",
    "def swap_pairs(list0029):\n",
    "    for i in range(0, len(list0029)-1, 2):\n",
    "        list0029[i], list0029[i+1] = list0029[i+1], list0029[i]\n",
    "   \n",
    "swap_pairs(list0029)\n",
    "print(\"\\033[1mOutput : \")\n",
    "print(\" \".join(list0029))\n"
   ]
  },
  {
   "cell_type": "code",
   "execution_count": null,
   "metadata": {},
   "outputs": [],
   "source": []
  },
  {
   "cell_type": "markdown",
   "metadata": {},
   "source": [
    "# 2.\n",
    "**Write a function that takes a list of words (containing duplicates) and\n",
    "returns a list of words (with no duplicates) sorted by decreasing\n",
    "frequency. E.g. if the input list contained 10 instances of the\n",
    "word table and 9 instances of the word chair, then table would appear\n",
    "before chair in the output list.**"
   ]
  },
  {
   "cell_type": "code",
   "execution_count": 35,
   "metadata": {},
   "outputs": [
    {
     "name": "stdout",
     "output_type": "stream",
     "text": [
      "Enter number of elements : 4\n",
      "chair\n",
      "chair\n",
      "chair\n",
      "table\n",
      "The original list : chair, chair, chair, table\n",
      "The required list : chair, table\n"
     ]
    }
   ],
   "source": [
    "#PROBLEM-2\n",
    "list0029 =[]\n",
    "n0029 = int(input(\"Enter number of elements : \")) \n",
    "\n",
    "for i in range(0, n0029): \n",
    "    e0029 = input() \n",
    "    list0029.append(e0029) \n",
    "    \n",
    "print(\"The original list : \" +\", \".join(list0029))  \n",
    "\n",
    "ans = sorted(set(list0029), key = lambda e0029: list0029.count(e0029), reverse = True)\n",
    "print(\"The required list : \" + \", \".join(ans))"
   ]
  },
  {
   "cell_type": "code",
   "execution_count": null,
   "metadata": {},
   "outputs": [],
   "source": []
  },
  {
   "cell_type": "markdown",
   "metadata": {},
   "source": [
    "# 3.\n",
    "**Write code that removes whitespace at the beginning and end of a\n",
    "string, and normalizes whitespace between words to be a single\n",
    "space character.**"
   ]
  },
  {
   "cell_type": "code",
   "execution_count": 49,
   "metadata": {},
   "outputs": [
    {
     "name": "stdout",
     "output_type": "stream",
     "text": [
      "this is my sentence that starts and ends with whitespace\n"
     ]
    }
   ],
   "source": [
    "#PROBLEM-3\n",
    "s0029 = '   this is my  sentence that starts and ends    with whitespace '\n",
    "s0029 = s0029.split(' ')\n",
    "s0029 = [word.strip() for word in s0029 if word]\n",
    "s0029 = ' '.join(s0029)\n",
    "print(s0029)"
   ]
  },
  {
   "cell_type": "code",
   "execution_count": null,
   "metadata": {},
   "outputs": [],
   "source": []
  },
  {
   "cell_type": "markdown",
   "metadata": {},
   "source": [
    "# 4.\n",
    "**Write code to initialize a two-dimensional array of sets\n",
    "called word_vowels and process a list of words, adding each word\n",
    "to word_vowels[l][v] in ascending order of l, where l is the length of the\n",
    "word and v is the number of vowels it contains.**"
   ]
  },
  {
   "cell_type": "code",
   "execution_count": 22,
   "metadata": {},
   "outputs": [
    {
     "name": "stdout",
     "output_type": "stream",
     "text": [
      "set() set() set() set() set() set()\n",
      "set() set() set() set() set() set()\n",
      "set() set() set() set() set() set()\n",
      "set() set() set() set() set() set()\n",
      "set() set() pear set() set() set()\n",
      "set() set() apple set() set() set()\n",
      "set() set() cashew orange set() set()\n",
      "set() set() set() set() set() set()\n",
      "set() set() set() cucumber set() set()\n",
      "set() set() set() set() chocolate set()\n"
     ]
    }
   ],
   "source": [
    "#PROBLEM-4\n",
    "m0029, n0029 = 6,10\n",
    "word_vowels = [[set() for j in range(m0029)] for i in range(n0029)]\n",
    "sent = ['orange', 'apple', 'cucumber', 'chocolate', 'pear', 'cashew']\n",
    "for lis in word_vowels:\n",
    "    for word in sent:\n",
    "        v = 0\n",
    "        l = len(word)\n",
    "        for letter in word: \n",
    "            if letter in \"aeiou\":\n",
    "                v += 1\n",
    "        word_vowels[l][v] = word\n",
    "\n",
    "for line in word_vowels:\n",
    "    print(*line)\n"
   ]
  },
  {
   "cell_type": "code",
   "execution_count": null,
   "metadata": {},
   "outputs": [],
   "source": []
  },
  {
   "cell_type": "markdown",
   "metadata": {},
   "source": [
    "# 5.\n",
    "**Assign a new value to sentence, namely the string ’she sells sea shells by the sea\n",
    "shore’, then write code to perform the following tasks: a) Print all words beginning\n",
    "with ’sh’: b) Print all words longer than 4 characters.**"
   ]
  },
  {
   "cell_type": "code",
   "execution_count": 4,
   "metadata": {},
   "outputs": [
    {
     "name": "stdout",
     "output_type": "stream",
     "text": [
      "Enter the string :\n",
      "she sells sea shells by the sea shore\n",
      "\u001b[1mThe words starting with 'sh' : \n",
      "she\n",
      "shells\n",
      "shore\n"
     ]
    }
   ],
   "source": [
    "# PROBLEM-5.1\n",
    "str0029 = input(\"Enter the string :\\n\")\n",
    "print(\"\\033[1mThe words starting with 'sh' : \")\n",
    "for i in str0029.split():\n",
    "    if i.startswith(\"sh\"):\n",
    "        print(i)"
   ]
  },
  {
   "cell_type": "code",
   "execution_count": 5,
   "metadata": {},
   "outputs": [
    {
     "name": "stdout",
     "output_type": "stream",
     "text": [
      "Enter the string :\n",
      "she sells sea shells by the sea shore\n",
      "\u001b[1mPrinting the words with length greater than 4...\n",
      "sells ,shells ,shore\n"
     ]
    }
   ],
   "source": [
    "#PROBLEM-5.2\n",
    "def strin0029(str):\n",
    "    string = [] \n",
    "    text = str.split(\" \") \n",
    "    for x in text: \n",
    "        if len(x) > 4: \n",
    "            string.append(x) \n",
    "    return \" ,\".join(string) \n",
    "\n",
    "str29 =input(\"Enter the string :\\n\")\n",
    "print(\"\\033[1mPrinting the words with length greater than 4...\")\n",
    "print(strin0029(str29)) \n"
   ]
  },
  {
   "cell_type": "markdown",
   "metadata": {},
   "source": [
    "#**THANK YOU**"
   ]
  }
 ],
 "metadata": {
  "kernelspec": {
   "display_name": "Python 3",
   "language": "python",
   "name": "python3"
  },
  "language_info": {
   "codemirror_mode": {
    "name": "ipython",
    "version": 3
   },
   "file_extension": ".py",
   "mimetype": "text/x-python",
   "name": "python",
   "nbconvert_exporter": "python",
   "pygments_lexer": "ipython3",
   "version": "3.8.5"
  }
 },
 "nbformat": 4,
 "nbformat_minor": 4
}
