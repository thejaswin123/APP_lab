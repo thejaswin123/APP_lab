{
 "cells": [
  {
   "cell_type": "markdown",
   "metadata": {},
   "source": [
    "# Week-4 \n",
    "### STRUCTURED PROGRAMMING USING PYTHON\n",
    "**By:\n",
    "<br>Thejaswin.S\n",
    "<br>RA1911026010029\n",
    "<br>cse-aiml -K1**"
   ]
  },
  {
   "cell_type": "markdown",
   "metadata": {},
   "source": [
    "**1.\n",
    "Aditya is the Strategist of the company. He just gives the skeleton of the process ideas and his\n",
    "team will have to implement it wherever applicable. One such idea is to give bonus of 10% for all\n",
    "along with hike based on the performance index. Create an interface and implement salary\n",
    "calculation method for Employees**"
   ]
  },
  {
   "cell_type": "code",
   "execution_count": 14,
   "metadata": {},
   "outputs": [
    {
     "name": "stdout",
     "output_type": "stream",
     "text": [
      "Enter the no. of employess: 1\n",
      "Enter the ID number : 133\n",
      "Enter the name of Employee : theja\n",
      "Department of the Employee : cse\n",
      "Enter the salary of employee : Rs 122000\n",
      "Enter the performance of the employee between 1 to 10 : 6\n",
      " \n",
      "Id Number :  133\n",
      "Name :  theja\n",
      "Department :  cse\n",
      "Salary of the employee :  134200.0\n",
      "Remark :  Keep up the good work\n"
     ]
    }
   ],
   "source": [
    "class Employee_0029:\n",
    "     def cal_salary(self):\n",
    "        student_detail_0029=[\"\",\"\",\"\",\"\",\"\"]\n",
    "        a_0029=0\n",
    "        n=int(input(\"Enter the no. of employess: \"))\n",
    "        for i_0029 in range(n):\n",
    "            id_0029= input('Enter the ID number : ')\n",
    "            name_0029= input('Enter the name of Employee : ')\n",
    "            dept_0029= input('Department of the Employee : ')\n",
    "            salary_0029=int(input('Enter the salary of employee : Rs '))\n",
    "            rating_0029=int(input('Enter the performance of the employee between 1 to 10 : '))\n",
    "            if rating_0029>5:\n",
    "                salary_0029+=salary_0029/10\n",
    "                remark_0029='Keep up the good work'\n",
    "            else:\n",
    "                remark_0029='Expecting more'\n",
    "                \n",
    "            student_details_0029={'':'', 'Id Number : ':id_0029, 'Name : ':name_0029, 'Department : ':dept_0029,\n",
    "                              'Salary of the employee : ':salary_0029, 'Remark : ':remark_0029, '':''}\n",
    "            student_detail_0029[a_0029]=student_details_0029\n",
    "            a_0029+=1\n",
    "        \n",
    "        for l_0029 in range(n):\n",
    "            for x_0029,y_0029 in student_detail_0029[l_0029].items():\n",
    "                 print(x_0029,y_0029)\n",
    "obj_0029=Employee_0029()\n",
    "obj_0029.cal_salary()"
   ]
  },
  {
   "cell_type": "markdown",
   "metadata": {},
   "source": [
    "**2.\n",
    "Write a function pyramid that gets the number of lines as argument and prints the below pyramid**"
   ]
  },
  {
   "cell_type": "code",
   "execution_count": 18,
   "metadata": {},
   "outputs": [
    {
     "name": "stdout",
     "output_type": "stream",
     "text": [
      "Enter a number : 8\n",
      "              1  \n",
      "            2 1 2  \n",
      "          3 2 1 2 3  \n",
      "        4 3 2 1 2 3 4  \n",
      "      5 4 3 2 1 2 3 4 5  \n",
      "    6 5 4 3 2 1 2 3 4 5 6  \n",
      "  7 6 5 4 3 2 1 2 3 4 5 6 7  \n",
      "8 7 6 5 4 3 2 1 2 3 4 5 6 7 8  \n"
     ]
    }
   ],
   "source": [
    "number0029 = int(input(\"Enter a number : \"))\n",
    "for i0029 in range(1,number0029 + 1):\n",
    "    for k0029 in range(0,number0029 - i0029):\n",
    "        print(end =\"  \")\n",
    "    for l0029 in range(i0029,1,-1):\n",
    "        print(l0029,end =\" \")\n",
    "    for j0029 in range(1,i0029+1):\n",
    "        print(j0029,end =\" \")\n",
    "    print(\" \") "
   ]
  },
  {
   "cell_type": "markdown",
   "metadata": {},
   "source": [
    "****"
   ]
  },
  {
   "cell_type": "markdown",
   "metadata": {},
   "source": [
    "**3.Check if parantheses (),{} or [] in an expression is balanced.**"
   ]
  },
  {
   "cell_type": "code",
   "execution_count": 21,
   "metadata": {},
   "outputs": [
    {
     "name": "stdout",
     "output_type": "stream",
     "text": [
      "{[]{()}}\n",
      "Balanced\n"
     ]
    }
   ],
   "source": [
    "Stack0029=[]\n",
    "word0029 = str(input())\n",
    "for letter0029 in word0029 :\n",
    "    if(letter0029 ==\"(\" or letter0029==\"[\" or letter0029==\"{\"):\n",
    "        Stack0029.append(letter0029)\n",
    "    elif((letter0029==\")\" or letter0029==\"]\" or letter0029==\"}\") and Stack0029==[]):\n",
    "        Stack0029.append(letter0029)\n",
    "        #break\n",
    "    elif(Stack0029[-1]==\"(\"):\n",
    "        if(letter0029==\")\"):\n",
    "            Stack0029.pop()\n",
    "    elif(Stack0029[-1]==\"{\"):\n",
    "        if(letter0029==\"}\"):\n",
    "            Stack0029.pop()\n",
    "    elif(Stack0029[-1]==\"[\"):\n",
    "        if(letter0029==\"]\"):\n",
    "            Stack0029.pop()\n",
    "if(Stack0029==[]):\n",
    "    print(\"Balanced\")\n",
    "else:\n",
    "    print(\"Unbalanced\")"
   ]
  },
  {
   "cell_type": "markdown",
   "metadata": {},
   "source": [
    "**4.Write a python program to count number of objects in a class**"
   ]
  },
  {
   "cell_type": "code",
   "execution_count": 20,
   "metadata": {},
   "outputs": [
    {
     "name": "stdout",
     "output_type": "stream",
     "text": [
      "The age of xyz is 19\n",
      "The age of lmn is 22\n",
      "The age of pqr is 18\n",
      "The age of abc is 15\n",
      "The age of mno is 21\n",
      "\n",
      "The number of objects of the class person is: 5\n"
     ]
    }
   ],
   "source": [
    "class Person:\n",
    "    count = 0\n",
    "    def __init__(self, name, age):\n",
    "        self.name = name\n",
    "        self.age = age\n",
    "        Person.count += 1\n",
    "        print('The age of ' + name + ' is ' + str(age))\n",
    "\n",
    "student1 = Person('xyz', 19)\n",
    "student2 = Person('lmn', 22)\n",
    "student3 = Person('pqr', 18)\n",
    "student4 = Person('abc', 15)\n",
    "student5 = Person('mno', 21)\n",
    "print('\\nThe number of objects of the class person is: ' + str(Person.count))"
   ]
  },
  {
   "cell_type": "markdown",
   "metadata": {},
   "source": [
    "**5.Create a Vehicle class with max_speed and mileage instance attributes.**"
   ]
  },
  {
   "cell_type": "code",
   "execution_count": 4,
   "metadata": {},
   "outputs": [
    {
     "name": "stdout",
     "output_type": "stream",
     "text": [
      "The max speed is: 338.8 km/h\n",
      "The mileage is: 32.26 kmpl\n"
     ]
    }
   ],
   "source": [
    "class Vehicle0029:\n",
    "    def __init__(self, max_speed, mileage):\n",
    "        self.max_speed = max_speed\n",
    "        self.mileage = mileage\n",
    "        print('The max speed is: ' + str(max_speed) + ' km/h')\n",
    "        print('The mileage is: ' + str(mileage) + ' kmpl')\n",
    "vehicle_0029 =Vehicle0029(338.8, 32.26) "
   ]
  },
  {
   "cell_type": "markdown",
   "metadata": {},
   "source": [
    "**6.Create child class Bus that will inherit all of the variables and methods of the Vehicle class.**"
   ]
  },
  {
   "cell_type": "code",
   "execution_count": 5,
   "metadata": {},
   "outputs": [
    {
     "name": "stdout",
     "output_type": "stream",
     "text": [
      "The max speed is: 338.8 km/h\n",
      "The mileage is: 32.26 kmpl\n"
     ]
    }
   ],
   "source": [
    "class Vehicle0029:\n",
    "    def __init__(self, max_speed, mileage):\n",
    "        self.max_speed = max_speed\n",
    "        self.mileage = mileage\n",
    "        print('The max speed is: ' + str(max_speed) + ' km/h')\n",
    "        print('The mileage is: ' + str(mileage) + ' kmpl')\n",
    "\n",
    "class Bus0029(Vehicle0029):\n",
    "    pass\n",
    "bus0029 = Bus0029(338.8, 32.26)"
   ]
  },
  {
   "cell_type": "markdown",
   "metadata": {},
   "source": [
    "**7.Find whether the student is eligible for the current year placement from the inputs studentname, CGPA, gender (M/F), number of backlogs. Implement the above by using object oriented programming concept.**"
   ]
  },
  {
   "cell_type": "code",
   "execution_count": 7,
   "metadata": {},
   "outputs": [
    {
     "name": "stdout",
     "output_type": "stream",
     "text": [
      "Enter student name: thej\n",
      "Enter cgpa: 9\n",
      "Enter gender: M\n",
      "Enter total number of backlogs: 1\n",
      "thej is eligible for placements!\n"
     ]
    }
   ],
   "source": [
    "class Student0029:\n",
    "    def __init__(self, name, cgpa, gender, backlogs):\n",
    "        self.name = name\n",
    "        self.cgpa = cgpa\n",
    "        self.gender = gender\n",
    "        self.backlogs = backlogs\n",
    "\n",
    "    def eligible0029(self):\n",
    "        if self.cgpa > 7 and self.backlogs < 2:\n",
    "            print(self.name + \" is eligible for placements!\")\n",
    "        else:\n",
    "            print(self.name + \" isn't eligible Sorry!\")\n",
    "\n",
    "n0029 = input(\"Enter student name: \")\n",
    "cgpa0029 = int(input(\"Enter cgpa: \"))\n",
    "gen0029 = input(\"Enter gender: \")\n",
    "backlog0029 = int(input(\"Enter total number of backlogs: \")) \n",
    "st = Student0029(n0029,cgpa0029,gen0029,backlog0029)\n",
    "st.eligible0029()"
   ]
  },
  {
   "cell_type": "markdown",
   "metadata": {},
   "source": [
    "**8.Using constructor, find the total EB bill to be paid. Rule slab is given\n",
    "below.\n",
    "<br>Units 0-100 - Rs.0\n",
    "<br>Units 101-200 - Rs.1.00\n",
    "<br>Units 201-300 - Rs. 2.00\n",
    "<br>Units 301 - more - Rs. 3.00 \n",
    "<br>Input:\n",
    "<br>Previous reading: 5897\n",
    "<br>Current reading: 6121\n",
    "<br>Output:\n",
    "<br>Bill amount: 148**"
   ]
  },
  {
   "cell_type": "code",
   "execution_count": 26,
   "metadata": {},
   "outputs": [
    {
     "name": "stdout",
     "output_type": "stream",
     "text": [
      "Enter previous reading: 5897\n",
      "Enter current reading: 6121\n",
      "Bill amount: Rs148\n"
     ]
    }
   ],
   "source": [
    "class EBbill0029:\n",
    "    def __init__(self, prev, curr):\n",
    "        diff = curr-prev\n",
    "        cost = 0\n",
    "        if diff <= 100:\n",
    "            pass\n",
    "        elif diff <= 200:\n",
    "            cost = diff-100\n",
    "        elif diff <= 300:\n",
    "            cost = 100 + (diff-200)*2\n",
    "        else:\n",
    "            cost = 300 + (diff-300)*3\n",
    "        print(\"Bill amount: \" + \"Rs\" + str(cost))\n",
    "\n",
    "pre0029 = int(input(\"Enter previous reading: \"))\n",
    "cur0029 = int(input(\"Enter current reading: \"))\n",
    "eb0029 = EBbill0029(pre0029,cur0029) "
   ]
  },
  {
   "cell_type": "markdown",
   "metadata": {},
   "source": [
    "**9.A list on a single line containing the cubes of the first N Fibonacci numbers using lambda function. Sample\n",
    "Input 5 Sample output [0, 1, 1, 8, 27]**"
   ]
  },
  {
   "cell_type": "code",
   "execution_count": 28,
   "metadata": {},
   "outputs": [
    {
     "name": "stdout",
     "output_type": "stream",
     "text": [
      "8\n",
      "[0, 1, 1, 8, 27, 125, 512, 2197]\n"
     ]
    }
   ],
   "source": [
    "num_0029=int(input())\n",
    "a_0029=[]\n",
    "cube_0029=lambda x_0029 : x_0029*x_0029*x_0029\n",
    "for i_0029 in range(num_0029):\n",
    "    if i_0029<=1:\n",
    "        a_0029.append(i_0029)\n",
    "    else:\n",
    "        f_0029=a_0029[i_0029-2]+a_0029[i_0029-1]\n",
    "        a_0029.append(f_0029)\n",
    "\n",
    "print(list(map(cube_0029,a_0029)))"
   ]
  },
  {
   "cell_type": "markdown",
   "metadata": {},
   "source": [
    "**10.Use map and lambda function to display Fahrenheit C = [39.2, 36.5, 37.3, 38, 37.8]**"
   ]
  },
  {
   "cell_type": "code",
   "execution_count": 32,
   "metadata": {},
   "outputs": [
    {
     "name": "stdout",
     "output_type": "stream",
     "text": [
      "[102.56, 97.7, 99.14, 100.4, 100.04]\n"
     ]
    }
   ],
   "source": [
    "C_0029 = [39.2, 36.5, 37.3, 38, 37.8]\n",
    "F_0029 = list(map(lambda x_0029: (float(9)/5)*x_0029 + 32, C_0029))\n",
    "print([round(x,2) for x in F_0029])"
   ]
  },
  {
   "cell_type": "code",
   "execution_count": null,
   "metadata": {},
   "outputs": [],
   "source": []
  }
 ],
 "metadata": {
  "kernelspec": {
   "display_name": "Python 3",
   "language": "python",
   "name": "python3"
  },
  "language_info": {
   "codemirror_mode": {
    "name": "ipython",
    "version": 3
   },
   "file_extension": ".py",
   "mimetype": "text/x-python",
   "name": "python",
   "nbconvert_exporter": "python",
   "pygments_lexer": "ipython3",
   "version": "3.8.5"
  }
 },
 "nbformat": 4,
 "nbformat_minor": 4
}
