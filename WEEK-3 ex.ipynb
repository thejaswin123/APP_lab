{
 "cells": [
  {
   "cell_type": "code",
   "execution_count": 2,
   "metadata": {},
   "outputs": [
    {
     "name": "stdout",
     "output_type": "stream",
     "text": [
      "child class\n",
      "parent class\n"
     ]
    }
   ],
   "source": [
    "class Parent:\n",
    "    def display(self):\n",
    "        print(\"parent class\")\n",
    "class child(Parent):\n",
    "    def show(self):\n",
    "        print(\"child class\")\n",
    "obj= child()\n",
    "obj.show()\n",
    "obj.display()"
   ]
  },
  {
   "cell_type": "code",
   "execution_count": 3,
   "metadata": {},
   "outputs": [
    {
     "name": "stdout",
     "output_type": "stream",
     "text": [
      "dog barking\n",
      "Animal Speaking\n"
     ]
    }
   ],
   "source": [
    "class Animal:\n",
    "    def speak(self):\n",
    "        print(\"Animal Speaking\")\n",
    "#child class Dog inherits the base class Animal\n",
    "class Dog(Animal):\n",
    "    def bark(self):\n",
    "        print(\"dog barking\")\n",
    "d = Dog()\n",
    "d.bark()\n",
    "d.speak()"
   ]
  },
  {
   "cell_type": "code",
   "execution_count": 4,
   "metadata": {},
   "outputs": [
    {
     "name": "stdout",
     "output_type": "stream",
     "text": [
      "dog barking\n",
      "Animal Speaking\n",
      "Eating bread...\n"
     ]
    }
   ],
   "source": [
    "class Animal:\n",
    "    def speak(self):\n",
    "        print(\"Animal Speaking\")\n",
    "#The child class Dog inherits the base class Animal\n",
    "class Dog(Animal):\n",
    "    def bark(self):\n",
    "        print(\"dog barking\")\n",
    "#The child class Dogchild inherits another child class Dog\n",
    "class DogChild(Dog):\n",
    "    def eat(self):\n",
    "        print(\"Eating bread...\")\n",
    "d = DogChild()\n",
    "d.bark()\n",
    "d.speak()\n",
    "d.eat()"
   ]
  },
  {
   "cell_type": "code",
   "execution_count": 5,
   "metadata": {},
   "outputs": [
    {
     "name": "stdout",
     "output_type": "stream",
     "text": [
      "grandparent class\n",
      "parent class\n",
      "child class\n"
     ]
    }
   ],
   "source": [
    "class Grandparent:\n",
    "    def gdisplay(self):\n",
    "        print(\"grandparent class\")\n",
    "class Parent(Grandparent):\n",
    "    def pdisplay(self):\n",
    "        print(\"parent class\")\n",
    "class child(Parent):\n",
    "    def show(self):\n",
    "        print(\"child class\")\n",
    "obj= child()\n",
    "obj.gdisplay()\n",
    "obj.pdisplay()\n",
    "obj.show()"
   ]
  },
  {
   "cell_type": "code",
   "execution_count": 6,
   "metadata": {},
   "outputs": [
    {
     "name": "stdout",
     "output_type": "stream",
     "text": [
      "30\n",
      "200\n",
      "0.5\n"
     ]
    }
   ],
   "source": [
    "class Calculation1:\n",
    "    def Summation(self,a,b):\n",
    "        return a+b;\n",
    "class Calculation2:\n",
    "    def Multiplication(self,a,b):\n",
    "        return a*b;\n",
    "class Derived(Calculation1,Calculation2):\n",
    "    def Divide(self,a,b):\n",
    "        return a/b;\n",
    "d = Derived()\n",
    "print(d.Summation(10,20))\n",
    "print(d.Multiplication(10,20))\n",
    "print(d.Divide(10,20))"
   ]
  },
  {
   "cell_type": "code",
   "execution_count": 7,
   "metadata": {},
   "outputs": [
    {
     "name": "stdout",
     "output_type": "stream",
     "text": [
      "child1 class\n",
      "parent class\n",
      "child2 class\n",
      "parent class\n"
     ]
    }
   ],
   "source": [
    "class Parent():\n",
    "    def pdisplay(self):\n",
    "        print(\"parent class\")\n",
    "class child1(Parent):\n",
    "    def show(self):\n",
    "        print(\"child1 class\")\n",
    "class child2(Parent):\n",
    "    def show(self):\n",
    "        print(\"child2 class\")\n",
    "obj=child1()\n",
    "obj.show()\n",
    "obj.pdisplay()\n",
    "obj2=child2()\n",
    "obj2.show()\n",
    "obj2.pdisplay()"
   ]
  },
  {
   "cell_type": "code",
   "execution_count": null,
   "metadata": {},
   "outputs": [],
   "source": []
  }
 ],
 "metadata": {
  "kernelspec": {
   "display_name": "Python 3",
   "language": "python",
   "name": "python3"
  },
  "language_info": {
   "codemirror_mode": {
    "name": "ipython",
    "version": 3
   },
   "file_extension": ".py",
   "mimetype": "text/x-python",
   "name": "python",
   "nbconvert_exporter": "python",
   "pygments_lexer": "ipython3",
   "version": "3.8.5"
  }
 },
 "nbformat": 4,
 "nbformat_minor": 4
}
