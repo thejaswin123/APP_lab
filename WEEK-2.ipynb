{
 "cells": [
  {
   "cell_type": "markdown",
   "metadata": {},
   "source": [
    "# SET 13"
   ]
  },
  {
   "cell_type": "markdown",
   "metadata": {},
   "source": [
    "# Structured Programming Using Python"
   ]
  },
  {
   "cell_type": "markdown",
   "metadata": {},
   "source": [
    "**DONE BY:\n",
    "<br>THEJASWIN S\n",
    "<br>RA1911026010029\n",
    "<br>CSE-AIML**"
   ]
  },
  {
   "cell_type": "markdown",
   "metadata": {},
   "source": [
    "# 1.\n",
    "**Write a Python program to sort a list of dictionaries using Lambda. Go to the editor\n",
    "Original list of dictionaries :\n",
    "<br>[{'make': 'Nokia', 'model': 216, 'color': 'Black'}, {'make': 'Mi Max', 'model': '2', 'color': 'Gold'}, {'make': 'Samsung', 'model': 7, 'color': 'Blue'}]\n",
    "<br>Sorting the List of dictionaries :\n",
    "<br>[{'make': 'Nokia', 'model': 216, 'color': 'Black'}, {'make': 'Samsung', 'model': 7, 'color': 'Blue'}, {'make': 'Mi Max', 'model': '2', 'color': 'Gold'}]**"
   ]
  },
  {
   "cell_type": "code",
   "execution_count": 30,
   "metadata": {},
   "outputs": [
    {
     "name": "stdout",
     "output_type": "stream",
     "text": [
      "\u001b[1mOriginal list of dictionaries :\u001b[0m\n",
      "[{'make': 'Nokia', 'model': 216, 'color': 'Black'}, {'make': 'Mi Max', 'model': '2', 'color': 'Gold'}, {'make': 'Samsung', 'model': 7, 'color': 'Blue'}]\n",
      "\n",
      "\u001b[1mSorting the List of dictionaries :\u001b[0m\n",
      "[{'make': 'Nokia', 'model': 216, 'color': 'Black'}, {'make': 'Samsung', 'model': 7, 'color': 'Blue'}, {'make': 'Mi Max', 'model': '2', 'color': 'Gold'}]\n"
     ]
    }
   ],
   "source": [
    "models0029 = [{'make':'Nokia', 'model':216, 'color':'Black'}, {'make':'Mi Max', 'model':'2', 'color':'Gold'}, {'make':'Samsung', 'model': 7, 'color':'Blue'}]\n",
    "print(\"\\033[1mOriginal list of dictionaries :\\033[0m\")\n",
    "print(models0029)\n",
    "sorted_models0029 = sorted(models, key = lambda x: x['color'])\n",
    "print(\"\\n\\033[1mSorting the List of dictionaries :\\033[0m\")\n",
    "print(sorted_models0029)"
   ]
  },
  {
   "cell_type": "code",
   "execution_count": null,
   "metadata": {},
   "outputs": [],
   "source": []
  },
  {
   "cell_type": "markdown",
   "metadata": {},
   "source": [
    "# 2.\n",
    "**Create a Python function that accepts a string and calculate the number of upper case\n",
    "letters and lower case letters. \n",
    "<br>Sample String : 'The quick Brow Fox'\n",
    "<br>Expected Output :\n",
    "<br>No. of Upper case characters : 3\n",
    "<br>No. of Lower case Characters : 12**"
   ]
  },
  {
   "cell_type": "code",
   "execution_count": 31,
   "metadata": {},
   "outputs": [
    {
     "name": "stdout",
     "output_type": "stream",
     "text": [
      "The quick Brow Fox\n",
      "\u001b[1mOriginal String : \u001b[0m The quick Brow Fox\n",
      "\u001b[1mNo. of Upper case characters : \u001b[0m 3\n",
      "\u001b[1mNo. of Lower case Characters : \u001b[0m 12\n"
     ]
    }
   ],
   "source": [
    "def test0029(s):\n",
    "    d={\"UPPER_CASE\":0, \"LOWER_CASE\":0}\n",
    "    for c in s:\n",
    "        if c.isupper():\n",
    "           d[\"UPPER_CASE\"]+=1\n",
    "        elif c.islower():\n",
    "           d[\"LOWER_CASE\"]+=1\n",
    "        else:\n",
    "           pass\n",
    "    print (\"\\033[1mOriginal String : \\033[0m\", s)\n",
    "    print (\"\\033[1mNo. of Upper case characters : \\033[0m\", d[\"UPPER_CASE\"])\n",
    "    print (\"\\033[1mNo. of Lower case Characters : \\033[0m\", d[\"LOWER_CASE\"])\n",
    "\n",
    "s0029=input()\n",
    "test0029(s0029)"
   ]
  },
  {
   "cell_type": "code",
   "execution_count": null,
   "metadata": {},
   "outputs": [],
   "source": []
  },
  {
   "cell_type": "markdown",
   "metadata": {},
   "source": [
    "# 3.\n",
    "**Write a Python program to move all zero digits to end of a given list of numbers.\n",
    "<br>Expected output:\n",
    "<br>Original list:\n",
    "<br>[3, 4, 0, 0, 0, 6, 2, 0, 6, 7, 6, 0, 0, 0, 9, 10, 7, 4, 4, 5, 3, 0, 0, 2, 9, 7, 1]\n",
    "<br>Move all zero digits to end of the said list of numbers:\n",
    "<br>[3, 4, 6, 2, 6, 7, 6, 9, 10, 7, 4, 4, 5, 3, 2, 9, 7, 1, 0, 0, 0, 0, 0, 0, 0, 0, 0]**"
   ]
  },
  {
   "cell_type": "code",
   "execution_count": 33,
   "metadata": {},
   "outputs": [
    {
     "name": "stdout",
     "output_type": "stream",
     "text": [
      "\u001b[1mOriginal list: \u001b[0m\n",
      "[3, 4, 0, 0, 0, 6, 2, 0, 6, 7, 6, 0, 0, 0, 9, 10, 7, 4, 4, 5, 3, 0, 0, 2, 9, 7, 1]\n",
      "\u001b[1mMove all zero digits to end of the said list of numbers: \u001b[0m\n",
      "[3, 4, 6, 2, 6, 7, 6, 9, 10, 7, 4, 4, 5, 3, 2, 9, 7, 1, 0, 0, 0, 0, 0, 0, 0, 0, 0]\n"
     ]
    }
   ],
   "source": [
    "def zerotoend0029(arr,n):\n",
    "    count=0\n",
    "    for i in range(n):\n",
    "        if arr[i]!=0:\n",
    "            arr[count]=arr[i]\n",
    "            count+=1\n",
    "    while(count<n):\n",
    "        arr[count]=0\n",
    "        count+=1\n",
    "\n",
    "arr0029=[3, 4, 0, 0, 0, 6, 2, 0, 6, 7, 6, 0, 0, 0, 9, 10, 7, 4, 4, 5, 3, 0, 0, 2, 9, 7, 1]\n",
    "print(\"\\033[1mOriginal list: \\033[0m\")\n",
    "print(arr0029)\n",
    "n = len(arr0029) \n",
    "zerotoend0029(arr0029, n) \n",
    "print(\"\\033[1mMove all zero digits to end of the said list of numbers: \\033[0m\") \n",
    "print(arr0029)\n",
    "    "
   ]
  },
  {
   "cell_type": "code",
   "execution_count": null,
   "metadata": {},
   "outputs": [],
   "source": []
  },
  {
   "cell_type": "markdown",
   "metadata": {},
   "source": [
    "# 4.\n",
    "**Create a Python script to print a dictionary where the keys are numbers between 1 and\n",
    "15 (both included) and the values are square of keys.\n",
    "<br>Sample Dictionary\n",
    "<br>{1: 1, 2: 4, 3: 9, 4: 16, 5: 25, 6: 36, 7: 49, 8: 64, 9: 81, 10: 100, 11: 121, 12: 144, 13: 169,\n",
    "14: 196, 15: 225}**"
   ]
  },
  {
   "cell_type": "code",
   "execution_count": 34,
   "metadata": {},
   "outputs": [
    {
     "name": "stdout",
     "output_type": "stream",
     "text": [
      "{1: 1, 2: 4, 3: 9, 4: 16, 5: 25, 6: 36, 7: 49, 8: 64, 9: 81, 10: 100, 11: 121, 12: 144, 13: 169, 14: 196, 15: 225}\n"
     ]
    }
   ],
   "source": [
    "d0029={}\n",
    "for i in range(1,16):\n",
    "    d0029[i]=i**2\n",
    "print(d0029)    \n"
   ]
  },
  {
   "cell_type": "code",
   "execution_count": null,
   "metadata": {},
   "outputs": [],
   "source": []
  },
  {
   "cell_type": "markdown",
   "metadata": {},
   "source": [
    "# 5.\n",
    "**Write a Python program to find the numbers of a given string and store them in a list,\n",
    "display the numbers which are bigger than the length of the list in sorted form. <br>Use\n",
    "lambda function to solve the problem. \n",
    "<br>Original string: sdf 23 safs8 5 sdfsd8 sdfs 56 21sfs 20 5\n",
    "<br>Numbers in sorted form:\n",
    "<br>20 23 56**"
   ]
  },
  {
   "cell_type": "code",
   "execution_count": 29,
   "metadata": {},
   "outputs": [
    {
     "name": "stdout",
     "output_type": "stream",
     "text": [
      "\u001b[1mOriginal string: \u001b[0m sdf 23 safs8 5 sdfsd8 sdfs 56 21sfs 20 5\n",
      "\u001b[1mNumbers in sorted form: \u001b[0m\n",
      "20 23 56 "
     ]
    }
   ],
   "source": [
    "str0029 = \"sdf 23 safs8 5 sdfsd8 sdfs 56 21sfs 20 5\"\n",
    "print(\"\\033[1mOriginal string: \\033[0m\",str0029)\n",
    "str_num=list(str0029.split(' '))\n",
    "leng=len(str_num)\n",
    "numbers=sorted([int(x) for x in str_num if x.isdigit()])\n",
    "print('\\033[1mNumbers in sorted form: \\033[0m')\n",
    "for y in filter(lambda x:x>leng,numbers):\n",
    "    print(y,end=' ')"
   ]
  },
  {
   "cell_type": "markdown",
   "metadata": {},
   "source": [
    "# THANK YOU"
   ]
  }
 ],
 "metadata": {
  "kernelspec": {
   "display_name": "Python 3",
   "language": "python",
   "name": "python3"
  },
  "language_info": {
   "codemirror_mode": {
    "name": "ipython",
    "version": 3
   },
   "file_extension": ".py",
   "mimetype": "text/x-python",
   "name": "python",
   "nbconvert_exporter": "python",
   "pygments_lexer": "ipython3",
   "version": "3.8.5"
  }
 },
 "nbformat": 4,
 "nbformat_minor": 4
}
