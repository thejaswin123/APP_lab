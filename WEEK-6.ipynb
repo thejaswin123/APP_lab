{
 "cells": [
  {
   "cell_type": "markdown",
   "metadata": {},
   "source": [
    "### Question 8\n",
    "\n",
    "**DONE BY:\n",
    "<br>Thejaswin.S\n",
    "<br>RA1911026010029\n",
    "<br>CSE-AIML K1**"
   ]
  },
  {
   "cell_type": "markdown",
   "metadata": {},
   "source": [
    "**Problem Statement – We have a buffer of fixed size. A producer can produce an item and\n",
    "<br>can place in the buffer. A consumer can pick items and can consume them. We need to\n",
    "<br>ensure that when a producer is placing an item in the buffer, then at the same time\n",
    "<br>consumer should not consume any item. In this problem, buffer is the critical section.\n",
    "<br>To solve this problem, we need two counting semaphores – Full and Empty. “Full” keeps\n",
    "<br>track of number of items in the buffer at any given time and “Empty” keeps track of number\n",
    "<br>of unoccupied slots.**"
   ]
  },
  {
   "cell_type": "code",
   "execution_count": 1,
   "metadata": {},
   "outputs": [
    {
     "name": "stdout",
     "output_type": "stream",
     "text": [
      "Produced 2 [2]\n",
      "Consumed 2 []\n",
      "Produced 0 [0]\n",
      "Consumed 0 []\n",
      "Produced 0 [0]\n",
      "Produced 1 [0, 1]\n",
      "Consumed 0 [1]\n",
      "Produced 4 [1, 4]\n",
      "Consumed 1 [4]\n",
      "Produced 0 [4, 0]\n",
      "Produced 1 [4, 0, 1]\n",
      "Consumed 4 [0, 1]\n",
      "Produced 0 [0, 1, 0]\n",
      "Consumed 0 [1, 0]\n",
      "Produced 2 [1, 0, 2]\n"
     ]
    }
   ],
   "source": [
    "import threading\n",
    "import random\n",
    "import time\n",
    "\n",
    "queue0029 = []\n",
    "empty0029 = threading.Semaphore(5)\n",
    "full0029 = threading.Semaphore(0)\n",
    "mutex = threading.Lock()\n",
    "\n",
    "def producer():\n",
    "    global queue0029\n",
    "    x0029 = range(6)\n",
    "    while True:\n",
    "        num0029 = random.choice(x0029)\n",
    "        empty0029.acquire()\n",
    "        mutex.acquire()\n",
    "        queue0029.append(num0029)\n",
    "        print(\"Produced\", num0029, queue0029)\n",
    "        mutex.release()\n",
    "        full0029.release()\n",
    "        time.sleep(random.randrange(0,3))\n",
    "\n",
    "def consumer():\n",
    "    global queue0029\n",
    "    while True:\n",
    "        full0029.acquire()\n",
    "        mutex.acquire()\n",
    "        num0029 = queue0029.pop(0)\n",
    "        print(\"Consumed\", num0029, queue0029)\n",
    "        mutex.release()\n",
    "        empty0029.release()\n",
    "        time.sleep(random.randrange(0,3))\n",
    "\n",
    "producerThread = threading.Thread(target=producer)\n",
    "consumerThread = threading.Thread(target=consumer)\n",
    "producerThread.start()\n",
    "consumerThread.start()"
   ]
  },
  {
   "cell_type": "code",
   "execution_count": null,
   "metadata": {},
   "outputs": [],
   "source": []
  }
 ],
 "metadata": {
  "kernelspec": {
   "display_name": "Python 3",
   "language": "python",
   "name": "python3"
  },
  "language_info": {
   "codemirror_mode": {
    "name": "ipython",
    "version": 3
   },
   "file_extension": ".py",
   "mimetype": "text/x-python",
   "name": "python",
   "nbconvert_exporter": "python",
   "pygments_lexer": "ipython3",
   "version": "3.8.5"
  }
 },
 "nbformat": 4,
 "nbformat_minor": 4
}
